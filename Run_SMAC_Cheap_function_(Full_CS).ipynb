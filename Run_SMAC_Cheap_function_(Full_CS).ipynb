{
  "nbformat": 4,
  "nbformat_minor": 0,
  "metadata": {
    "colab": {
      "name": "Run SMAC --- Cheap function (Full CS)",
      "version": "0.3.2",
      "provenance": [],
      "collapsed_sections": []
    },
    "kernelspec": {
      "name": "python3",
      "display_name": "Python 3"
    }
  },
  "cells": [
    {
      "cell_type": "markdown",
      "metadata": {
        "id": "view-in-github",
        "colab_type": "text"
      },
      "source": [
        "[View in Colaboratory](https://colab.research.google.com/github/mlindauer/lab_course_add/blob/master/Run_SMAC_Cheap_function_(Full_CS).ipynb)"
      ]
    },
    {
      "metadata": {
        "id": "_p8s1CzjMhD3",
        "colab_type": "text"
      },
      "cell_type": "markdown",
      "source": [
        "# Using SMAC to optimize an artificial black box function (Rosenbrock)\n",
        "\n",
        "* Optimization of 2d rosenbrock function \n",
        "* Using fmin interface and SMAC facade\n",
        "* Example on how to use the configspace"
      ]
    },
    {
      "metadata": {
        "id": "qOoCCm5F3kHH",
        "colab_type": "text"
      },
      "cell_type": "markdown",
      "source": [
        "## Installation of SMAC and its dependencies"
      ]
    },
    {
      "metadata": {
        "id": "9pY4l5s_3TqR",
        "colab_type": "code",
        "colab": {}
      },
      "cell_type": "code",
      "source": [
        "!apt-get install swig -y\n",
        "!pip install Cython\n",
        "!pip install pyrfr==0.8.0 --no-cache --user\n",
        "# hack to find pyrfr\n",
        "import sys\n",
        "sys.path.insert(0,\"./.local/lib/python3.6/site-packages\")\n",
        "\n",
        "!pip install git+https://github.com/automl/SMAC3.git@development\n",
        "  \n",
        "import logging\n",
        "logging.basicConfig(level=logging.INFO)"
      ],
      "execution_count": 0,
      "outputs": []
    },
    {
      "metadata": {
        "id": "7RxtuOc03qEp",
        "colab_type": "text"
      },
      "cell_type": "markdown",
      "source": [
        "## Define Function to be optimized\n",
        "Rosenbrock : https://en.wikipedia.org/wiki/Rosenbrock_function"
      ]
    },
    {
      "metadata": {
        "id": "O2GowUPf3uw2",
        "colab_type": "code",
        "colab": {}
      },
      "cell_type": "code",
      "source": [
        "import math\n",
        "import numpy as np\n",
        "\n",
        "def rosenbrock_2d(x):\n",
        "    x1 = float(x[0])\n",
        "    x2 = float(x[1])\n",
        "\n",
        "    val = 100. * (x2 - x1 ** 2.) ** 2. + (1 - x1) ** 2.\n",
        "    return val"
      ],
      "execution_count": 0,
      "outputs": []
    },
    {
      "metadata": {
        "id": "4QqLKS1-7I5v",
        "colab_type": "text"
      },
      "cell_type": "markdown",
      "source": [
        "## Optimize with SMAC -- fmin Interface"
      ]
    },
    {
      "metadata": {
        "id": "3YqtNEhp7L1n",
        "colab_type": "code",
        "colab": {}
      },
      "cell_type": "code",
      "source": [
        "from smac.facade.func_facade import fmin_smac\n",
        "\n",
        "MAX_FUN = 200\n",
        "\n",
        "x, cost, smac = fmin_smac(func=rosenbrock_2d,\n",
        "                       x0=[-3, -4], # default values\n",
        "                       bounds=[(-5, 5), (-5, 5)], # bounds of each x\n",
        "                       maxfun=MAX_FUN, # maximal number of function evaluations \n",
        "                       rng=1234 # random seed\n",
        "                       )\n",
        "\n",
        "print(\"Best x: %f,%f\" %(x[0], x[1]))\n",
        "print(\"Best y: %f\" %(cost))"
      ],
      "execution_count": 0,
      "outputs": []
    },
    {
      "metadata": {
        "id": "1pg-PcUq9qa1",
        "colab_type": "text"
      },
      "cell_type": "markdown",
      "source": [
        "## How has SMAC performed over time?"
      ]
    },
    {
      "metadata": {
        "id": "bQJPaCQN9kHA",
        "colab_type": "code",
        "colab": {}
      },
      "cell_type": "code",
      "source": [
        "import matplotlib.pyplot as plt\n",
        "import numpy as np\n",
        "\n",
        "# get runhistory, all runs ever evaluated by smac\n",
        "runhistory = smac.get_runhistory()\n",
        "\n",
        "# extract x value and corresponding y value\n",
        "y_smac = []\n",
        "for entry in runhistory.data: # iterate over data because it is an OrderedDict\n",
        "  config_id = entry.config_id # look up config id\n",
        "  config = runhistory.ids_config[config_id] # look up config\n",
        "  y_ = runhistory.get_cost(config) # get cost\n",
        "  y_smac.append(y_)\n",
        "y_smac = np.array(y_smac)\n",
        "\n",
        "\n",
        "# Plotting\n",
        "ax = plt.subplot(111)\n",
        "ax.plot(y_smac, 'o')\n",
        "plt.xlabel('function evaluation')\n",
        "plt.ylabel('function value')\n",
        "\n",
        "# let's plot only the best function value at each time step\n",
        "y_best = np.zeros(MAX_FUN)\n",
        "for id in range(MAX_FUN):\n",
        "  y_best[id] = np.min(y_smac[:id+1])\n",
        "  \n",
        "ax.step(y_best, 'k', where=\"post\") # please note that we use step function!\n",
        "ax.set_yscale(\"log\")"
      ],
      "execution_count": 0,
      "outputs": []
    },
    {
      "metadata": {
        "id": "4qpujPy8voPh",
        "colab_type": "text"
      },
      "cell_type": "markdown",
      "source": [
        "## Optimize with SMAC -- SMAC interface"
      ]
    },
    {
      "metadata": {
        "id": "T77tKqCPygOV",
        "colab_type": "code",
        "colab": {}
      },
      "cell_type": "code",
      "source": [
        "def rosenbrock_2d(x):\n",
        "    # use parameter names! \n",
        "    x1 = float(x[\"x1\"])\n",
        "    x2 = float(x[\"x2\"])\n",
        "\n",
        "    val = 100. * (x2 - x1 ** 2.) ** 2. + (1 - x1) ** 2.\n",
        "    return val"
      ],
      "execution_count": 0,
      "outputs": []
    },
    {
      "metadata": {
        "id": "LlP2vR3gvt-Z",
        "colab_type": "code",
        "colab": {}
      },
      "cell_type": "code",
      "source": [
        "from smac.configspace import ConfigurationSpace\n",
        "from ConfigSpace.hyperparameters import CategoricalHyperparameter, \\\n",
        "    UniformFloatHyperparameter\n",
        "\n",
        "# Build configuration space\n",
        "\n",
        "cs = ConfigurationSpace(seed=1234)\n",
        "# for illustration, let's make the first parameter categorical\n",
        "x1 = CategoricalHyperparameter(name=\"x1\", choices=range(-5,6), default_value=-3)\n",
        "# the second will be a continuous parameter\n",
        "x2 = UniformFloatHyperparameter(name=\"x2\", lower=-5,upper=5, default_value=-4)\n",
        "\n",
        "# add parameters to config space\n",
        "cs.add_hyperparameters([x1, x2])\n",
        "\n",
        "print(cs)\n"
      ],
      "execution_count": 0,
      "outputs": []
    },
    {
      "metadata": {
        "id": "0utlA_X-xzFZ",
        "colab_type": "code",
        "colab": {}
      },
      "cell_type": "code",
      "source": [
        "from smac.scenario.scenario import Scenario\n",
        "from smac.facade.smac_facade import SMAC\n",
        "\n",
        "# Build an scenario\n",
        "scenario = Scenario({\"run_obj\": \"quality\",  # we optimize quality \n",
        "                     \"runcount-limit\": MAX_FUN,  # maximum number of function evaluations\n",
        "                     \"cs\": cs,               # configuration space\n",
        "                     \"deterministic\": \"true\"\n",
        "                     })\n",
        "\n",
        "# start SMAC\n",
        "smac = SMAC(scenario=scenario, \n",
        "            rng=np.random.RandomState(1234),\n",
        "            tae_runner=rosenbrock_2d)\n",
        "\n",
        "best_x = smac.optimize()\n",
        "\n",
        "cost = smac.get_tae_runner().run(best_x, 1)[1]\n",
        "print(\"Best x: %f,%f\" %(best_x[\"x1\"], best_x[\"x2\"]))\n",
        "print(\"Best y: %f\" %(cost))"
      ],
      "execution_count": 0,
      "outputs": []
    }
  ]
}