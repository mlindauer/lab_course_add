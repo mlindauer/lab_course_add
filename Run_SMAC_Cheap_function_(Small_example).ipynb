{
  "nbformat": 4,
  "nbformat_minor": 0,
  "metadata": {
    "colab": {
      "name": "Run SMAC --- Cheap function (Small example)",
      "version": "0.3.2",
      "provenance": [],
      "collapsed_sections": []
    },
    "kernelspec": {
      "name": "python3",
      "display_name": "Python 3"
    }
  },
  "cells": [
    {
      "cell_type": "markdown",
      "metadata": {
        "id": "view-in-github",
        "colab_type": "text"
      },
      "source": [
        "[View in Colaboratory](https://colab.research.google.com/github/mlindauer/lab_course_add/blob/master/Run_SMAC_Cheap_function_(Small_example).ipynb)"
      ]
    },
    {
      "metadata": {
        "id": "xNUtW_7UNe05",
        "colab_type": "text"
      },
      "cell_type": "markdown",
      "source": [
        "# Using SMAC to optimize an artificial black box function (Small example)\n",
        "\n",
        "* Installation of SMAC and its dependencies\n",
        "* Definition of cheap 1d function\n",
        "* Plotting this function\n",
        "* Using SMAC's fmin interface to optimize the function\n",
        "* Plotting of how SMAC performed over time"
      ]
    },
    {
      "metadata": {
        "id": "qOoCCm5F3kHH",
        "colab_type": "text"
      },
      "cell_type": "markdown",
      "source": [
        "## Installation of SMAC and its dependencies"
      ]
    },
    {
      "metadata": {
        "id": "9pY4l5s_3TqR",
        "colab_type": "code",
        "colab": {}
      },
      "cell_type": "code",
      "source": [
        "!apt-get install swig -y\n",
        "!pip install Cython\n",
        "!pip install pyrfr==0.8.0 --no-cache --user\n",
        "# hack to find pyrfr\n",
        "import sys\n",
        "sys.path.insert(0,\"./.local/lib/python3.6/site-packages\")\n",
        "\n",
        "!pip install git+https://github.com/automl/SMAC3.git@development"
      ],
      "execution_count": 0,
      "outputs": []
    },
    {
      "metadata": {
        "id": "7RxtuOc03qEp",
        "colab_type": "text"
      },
      "cell_type": "markdown",
      "source": [
        "## Define Function to be optimized"
      ]
    },
    {
      "metadata": {
        "id": "O2GowUPf3uw2",
        "colab_type": "code",
        "colab": {}
      },
      "cell_type": "code",
      "source": [
        "import math\n",
        "import numpy as np\n",
        "\n",
        "def test_func(x):\n",
        "    # x is vector; here of length 1\n",
        "    x = x[0]\n",
        "    return math.cos(x) * x**2 + x "
      ],
      "execution_count": 0,
      "outputs": []
    },
    {
      "metadata": {
        "id": "aQndKeQE4sRx",
        "colab_type": "text"
      },
      "cell_type": "markdown",
      "source": [
        "## Plot Function"
      ]
    },
    {
      "metadata": {
        "id": "qySD-_qumaJs",
        "colab_type": "code",
        "colab": {}
      },
      "cell_type": "code",
      "source": [
        "x_points = np.linspace(start=-5,stop=5,num=100) \n",
        "y_points = list(map(test_func,map(lambda x: [x], x_points)))\n",
        "\n",
        "import matplotlib.pyplot as plt\n",
        "plt.plot(x_points, y_points, 'k')"
      ],
      "execution_count": 0,
      "outputs": []
    },
    {
      "metadata": {
        "id": "4QqLKS1-7I5v",
        "colab_type": "text"
      },
      "cell_type": "markdown",
      "source": [
        "## Optimize with SMAC"
      ]
    },
    {
      "metadata": {
        "id": "3YqtNEhp7L1n",
        "colab_type": "code",
        "colab": {}
      },
      "cell_type": "code",
      "source": [
        "from smac.facade.func_facade import fmin_smac\n",
        "\n",
        "MAX_FUN = 30\n",
        "\n",
        "x, cost, smac = fmin_smac(func=test_func,\n",
        "                       x0=[-0], # default values\n",
        "                       bounds=[(-5, 5)], # bounds of each x\n",
        "                       maxfun=MAX_FUN, # maximal number of function evaluations \n",
        "                       rng=1234 # random seed\n",
        "                       )\n",
        "\n",
        "print(\"Best x: %f\" %(x[0]))\n",
        "print(\"Best y: %f\" %(cost))"
      ],
      "execution_count": 0,
      "outputs": []
    },
    {
      "metadata": {
        "id": "sxaB6j_U8Qao",
        "colab_type": "text"
      },
      "cell_type": "markdown",
      "source": [
        "## Plot Found Solution"
      ]
    },
    {
      "metadata": {
        "id": "ajGYr4I-8Ooj",
        "colab_type": "code",
        "colab": {}
      },
      "cell_type": "code",
      "source": [
        "plt.plot(x_points, y_points, 'k', x, [cost], 'ro')"
      ],
      "execution_count": 0,
      "outputs": []
    },
    {
      "metadata": {
        "id": "1pg-PcUq9qa1",
        "colab_type": "text"
      },
      "cell_type": "markdown",
      "source": [
        "## How has SMAC performed over time?"
      ]
    },
    {
      "metadata": {
        "id": "bQJPaCQN9kHA",
        "colab_type": "code",
        "colab": {}
      },
      "cell_type": "code",
      "source": [
        "import numpy as np\n",
        "# get runhistory, all runs ever evaluated by smac\n",
        "runhistory = smac.get_runhistory()\n",
        "\n",
        "# extract x value and corresponding y value\n",
        "x_smac = []\n",
        "y_smac = []\n",
        "for entry in runhistory.data: # iterate over data because it is an OrderedDict\n",
        "  config_id = entry.config_id # look up config id\n",
        "  config = runhistory.ids_config[config_id] # look up config\n",
        "  y_ = runhistory.get_cost(config) # get cost\n",
        "  x_ = config[\"x1\"] # there is only one entry in our example\n",
        "  x_smac.append(x_)\n",
        "  y_smac.append(y_)\n",
        "x_smac = np.array(x_smac)\n",
        "y_smac = np.array(y_smac)\n",
        "\n",
        "\n",
        "# Plotting\n",
        "plt.plot(y_smac, 'o')\n",
        "plt.xlabel('function evaluation')\n",
        "plt.ylabel('function value')\n",
        "\n",
        "# let's plot only the best function value at each time step\n",
        "y_best = np.zeros(MAX_FUN)\n",
        "for id in range(MAX_FUN):\n",
        "  y_best[id] = np.min(y_smac[:id+1])\n",
        "  \n",
        "plt.step(y_best, 'k', where=\"post\") # please note that we use step function!"
      ],
      "execution_count": 0,
      "outputs": []
    }
  ]
}