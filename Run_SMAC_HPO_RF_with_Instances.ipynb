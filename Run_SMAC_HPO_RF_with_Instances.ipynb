{
  "nbformat": 4,
  "nbformat_minor": 0,
  "metadata": {
    "colab": {
      "name": "Run SMAC --- HPO: RF with Instances",
      "version": "0.3.2",
      "provenance": [],
      "collapsed_sections": []
    },
    "kernelspec": {
      "name": "python3",
      "display_name": "Python 3"
    }
  },
  "cells": [
    {
      "cell_type": "markdown",
      "metadata": {
        "id": "view-in-github",
        "colab_type": "text"
      },
      "source": [
        "[View in Colaboratory](https://colab.research.google.com/github/mlindauer/lab_course_add/blob/master/Run_SMAC_HPO_RF_with_Instances.ipynb)"
      ]
    },
    {
      "metadata": {
        "id": "sjRLT4-QNyp1",
        "colab_type": "text"
      },
      "cell_type": "markdown",
      "source": [
        "# Using SMAC to optimize hyperparameters of RF by using instances\n",
        "\n",
        "* Installation of SMAC\n",
        "* Defintion of function to be optimized (RF on Boston Dataset)\n",
        "* Definition of RF's configspace\n",
        "* Definition of SMAC's scenario including instances\n",
        "* Running SMAC"
      ]
    },
    {
      "metadata": {
        "id": "qOoCCm5F3kHH",
        "colab_type": "text"
      },
      "cell_type": "markdown",
      "source": [
        "## Installation of SMAC and its dependencies"
      ]
    },
    {
      "metadata": {
        "id": "9pY4l5s_3TqR",
        "colab_type": "code",
        "colab": {}
      },
      "cell_type": "code",
      "source": [
        "!apt-get install swig -y\n",
        "!pip install Cython\n",
        "!pip install pyrfr==0.8.0 --no-cache --user\n",
        "# hack to find pyrfr\n",
        "import sys\n",
        "sys.path.insert(0,\"./.local/lib/python3.6/site-packages\")\n",
        "\n",
        "!pip install git+https://github.com/automl/SMAC3.git@development\n",
        "  \n",
        "import logging\n",
        "logging.basicConfig(level=logging.INFO)"
      ],
      "execution_count": 0,
      "outputs": []
    },
    {
      "metadata": {
        "id": "7RxtuOc03qEp",
        "colab_type": "text"
      },
      "cell_type": "markdown",
      "source": [
        "## Optimize RF RMSE performance on Boston Dataset"
      ]
    },
    {
      "metadata": {
        "id": "O2GowUPf3uw2",
        "colab_type": "code",
        "colab": {}
      },
      "cell_type": "code",
      "source": [
        "from sklearn.model_selection import KFold\n",
        "from sklearn.metrics import mean_squared_error\n",
        "from sklearn.ensemble import RandomForestRegressor\n",
        "from sklearn.datasets import load_boston\n",
        "import numpy as np\n",
        "\n",
        "boston = load_boston()\n",
        "\n",
        "# get k-fold cross validation\n",
        "kfold = KFold(n_splits=10)\n",
        "splits = list(kfold.split(boston.data))\n",
        "\n",
        "def rf_from_cfg(cfg, instance, seed):\n",
        "    \"\"\"\n",
        "        Creates a random forest regressor from sklearn and fits the given data on it.\n",
        "        This is the function-call we try to optimize. Chosen values are stored in\n",
        "        the configuration (cfg).\n",
        "\n",
        "        Parameters:\n",
        "        -----------\n",
        "        cfg: Configuration\n",
        "            configuration chosen by smac\n",
        "        instance: str\n",
        "            id of cv fold\n",
        "        seed: int or RandomState\n",
        "            used to initialize the rf's random generator\n",
        "\n",
        "        Returns:\n",
        "        -----------\n",
        "        np.mean(rmses): float\n",
        "            mean of root mean square errors of random-forest test predictions\n",
        "            per cv-fold\n",
        "    \"\"\"\n",
        "    rfr = RandomForestRegressor(\n",
        "        n_estimators=cfg[\"num_trees\"],\n",
        "        criterion=cfg[\"criterion\"],\n",
        "        min_samples_split=cfg[\"min_samples_to_split\"],\n",
        "        min_samples_leaf=cfg[\"min_samples_in_leaf\"],\n",
        "        min_weight_fraction_leaf=cfg[\"min_weight_frac_leaf\"],\n",
        "        max_features=cfg[\"max_features\"],\n",
        "        max_leaf_nodes=cfg[\"max_leaf_nodes\"],\n",
        "        bootstrap=cfg[\"do_bootstrapping\"],\n",
        "        random_state=seed)\n",
        "\n",
        "    fold = int(instance) # smac only accepts str as \"instances\"\n",
        "    train_id, test_id = splits[fold][0], splits[fold][1]\n",
        "    X_train, y_train = boston.data[train_id], boston.target[train_id]\n",
        "    X_test, y_test = boston.data[test_id], boston.target[test_id]\n",
        "    # fit random forest\n",
        "    rfr.fit(X_train, y_train)\n",
        "    # predict on test set\n",
        "    y_pred = rfr.predict(X_test)\n",
        "    \n",
        "    # return error on test set\n",
        "    return np.sqrt(mean_squared_error(y_test, y_pred))"
      ],
      "execution_count": 0,
      "outputs": []
    },
    {
      "metadata": {
        "id": "dyYEontS2CX2",
        "colab_type": "text"
      },
      "cell_type": "markdown",
      "source": [
        "## Define Configuration Space"
      ]
    },
    {
      "metadata": {
        "id": "c0yPiWGc2B-m",
        "colab_type": "code",
        "colab": {}
      },
      "cell_type": "code",
      "source": [
        "from smac.configspace import ConfigurationSpace\n",
        "from ConfigSpace.hyperparameters import CategoricalHyperparameter, \\\n",
        "    UniformFloatHyperparameter, UniformIntegerHyperparameter\n",
        "\n",
        "cs = ConfigurationSpace()\n",
        "\n",
        "do_bootstrapping = CategoricalHyperparameter(\n",
        "    \"do_bootstrapping\", [\"true\", \"false\"], default_value=\"true\")\n",
        "num_trees = UniformIntegerHyperparameter(\"num_trees\", 10, 50, default_value=10)\n",
        "max_features = UniformIntegerHyperparameter(\"max_features\", 1, boston.data.shape[1], default_value=1)\n",
        "min_weight_frac_leaf = UniformFloatHyperparameter(\"min_weight_frac_leaf\", 0.0, 0.5, default_value=0.0)\n",
        "criterion = CategoricalHyperparameter(\"criterion\", [\"mse\", \"mae\"], default_value=\"mse\")\n",
        "min_samples_to_split = UniformIntegerHyperparameter(\"min_samples_to_split\", 2, 20, default_value=2)\n",
        "min_samples_in_leaf = UniformIntegerHyperparameter(\"min_samples_in_leaf\", 1, 20, default_value=1)\n",
        "max_leaf_nodes = UniformIntegerHyperparameter(\"max_leaf_nodes\", 10, 1000, default_value=100)\n",
        "\n",
        "cs.add_hyperparameters([do_bootstrapping,\n",
        "                        num_trees, min_weight_frac_leaf, \n",
        "                        criterion, max_features, min_samples_to_split, \n",
        "                        min_samples_in_leaf, max_leaf_nodes])\n",
        "\n",
        "print(cs)\n",
        "\n",
        "def_config = cs.get_default_configuration()\n",
        "print(\"Default %s\" %(def_config))\n",
        "\n",
        "for fold in range(0,10):\n",
        "  #default seed of deterministic algorithms is 0\n",
        "  rmse = rf_from_cfg(cfg=def_config, instance=str(fold), seed=0)\n",
        "  print(\"RMSE of default configuration on %d-th fold: %f\" %(fold, rmse))\n",
        "\n"
      ],
      "execution_count": 0,
      "outputs": []
    },
    {
      "metadata": {
        "id": "UJr3D_k52Vdo",
        "colab_type": "text"
      },
      "cell_type": "markdown",
      "source": [
        "## Define Scenario\n",
        "\n",
        "A list of instances can be passed to the scenarios,\n",
        "such that SMAC will optimize performance on average across all instances.\n",
        "To avoid evaluating configurations on all instances, SMAC uses a aggressive racing strategy:\n",
        "Configurations are dropped as soons as they perform worse than the current incumbent (i.e., best configuration found so far) on an arbitrary subset of instances.\n"
      ]
    },
    {
      "metadata": {
        "id": "1_deBG0a2U4M",
        "colab_type": "code",
        "colab": {}
      },
      "cell_type": "code",
      "source": [
        "from smac.scenario.scenario import Scenario\n",
        "\n",
        "# define cv-folds as instances \"0\",\"1\",...\"9\"\n",
        "instances = map(str,range(0,10))\n",
        "\n",
        "scenario = Scenario({\"run_obj\": \"quality\",   # we optimize quality (alternative runtime)\n",
        "                     \"wallclock_limit\": 60,  # time for running SMAC\n",
        "                     \"cs\": cs,               # configuration space\n",
        "                     \"deterministic\": \"true\",\n",
        "                     \"memory_limit\": 3072,   # adapt this to reasonable value for your hardware\n",
        "                     \"instances\" : instances,\n",
        "                     \"output_dir\": \"\"        # deactivate output\n",
        "                     })"
      ],
      "execution_count": 0,
      "outputs": []
    },
    {
      "metadata": {
        "id": "3-5ou1J_2ahp",
        "colab_type": "text"
      },
      "cell_type": "markdown",
      "source": [
        "## Run SMAC\n",
        "\n",
        "Note that SMAC will evaluate each configuration on at most 10 runs\n",
        "because we defined 10 instances (10-fold cv) and assumed that the algorithm is deterministic."
      ]
    },
    {
      "metadata": {
        "id": "cX7vYP7h2cf0",
        "colab_type": "code",
        "colab": {}
      },
      "cell_type": "code",
      "source": [
        "from smac.facade.smac_facade import SMAC\n",
        "\n",
        "smac = SMAC(scenario=scenario, rng=np.random.RandomState(42),\n",
        "            tae_runner=rf_from_cfg)\n",
        "\n",
        "incumbent = smac.optimize()\n",
        "\n",
        "print(\"Number of evaluated configurations: %d\" %(len(smac.solver.runhistory.ids_config )))"
      ],
      "execution_count": 0,
      "outputs": []
    },
    {
      "metadata": {
        "id": "IKdWdQoF8miX",
        "colab_type": "text"
      },
      "cell_type": "markdown",
      "source": [
        "## SMAC on non-deterministic Algorithms\n",
        "\n",
        "Please note that the number of runs per configuration will be much higher now,\n",
        "because SMAC will try different instance-seed pairs for each configuration."
      ]
    },
    {
      "metadata": {
        "id": "rNkfsPEK8ljN",
        "colab_type": "code",
        "colab": {}
      },
      "cell_type": "code",
      "source": [
        "from smac.scenario.scenario import Scenario\n",
        "\n",
        "# define cv-folds as instances \"0\",\"1\",...\"9\"\n",
        "instances = map(str,range(0,10))\n",
        "\n",
        "scenario = Scenario({\"run_obj\": \"quality\",   # we optimize quality (alternative runtime)\n",
        "                     \"wallclock_limit\": 60,  # time for running SMAC\n",
        "                     \"cs\": cs,               # configuration space\n",
        "                     \"deterministic\": \"false\", # ! important change compared to above !\n",
        "                     \"memory_limit\": 3072,   # adapt this to reasonable value for your hardware\n",
        "                     \"instances\" : instances,\n",
        "                     \"output_dir\": \"\"        # deactivate output\n",
        "                     })\n",
        "\n",
        "smac = SMAC(scenario=scenario, rng=np.random.RandomState(42),\n",
        "            tae_runner=rf_from_cfg)\n",
        "\n",
        "incumbent = smac.optimize()\n",
        "\n",
        "print(\"Number of evaluated configurations: %d\" %(len(smac.solver.runhistory.ids_config )))"
      ],
      "execution_count": 0,
      "outputs": []
    }
  ]
}