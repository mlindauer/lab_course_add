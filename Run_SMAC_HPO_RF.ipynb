{
  "nbformat": 4,
  "nbformat_minor": 0,
  "metadata": {
    "colab": {
      "name": "Run SMAC --- HPO: RF ",
      "version": "0.3.2",
      "provenance": [],
      "collapsed_sections": []
    },
    "kernelspec": {
      "name": "python3",
      "display_name": "Python 3"
    }
  },
  "cells": [
    {
      "cell_type": "markdown",
      "metadata": {
        "id": "view-in-github",
        "colab_type": "text"
      },
      "source": [
        "[View in Colaboratory](https://colab.research.google.com/github/mlindauer/lab_course_add/blob/master/Run_SMAC_HPO_RF.ipynb)"
      ]
    },
    {
      "metadata": {
        "id": "sjRLT4-QNyp1",
        "colab_type": "text"
      },
      "cell_type": "markdown",
      "source": [
        "# Using SMAC to optimize hyperparameters of RF\n",
        "\n",
        "* Installation of SMAC\n",
        "* Defintion of function to be optimized (RF on Boston Dataset)\n",
        "* Definition of RF's configspace\n",
        "* Definition of SMAC's scenario\n",
        "* Running SMAC"
      ]
    },
    {
      "metadata": {
        "id": "qOoCCm5F3kHH",
        "colab_type": "text"
      },
      "cell_type": "markdown",
      "source": [
        "## Installation of SMAC and its dependencies"
      ]
    },
    {
      "metadata": {
        "id": "9pY4l5s_3TqR",
        "colab_type": "code",
        "colab": {}
      },
      "cell_type": "code",
      "source": [
        "!apt-get install swig -y\n",
        "!pip install Cython\n",
        "!pip install pyrfr==0.8.0 --no-cache --user\n",
        "# hack to find pyrfr\n",
        "import sys\n",
        "sys.path.insert(0,\"./.local/lib/python3.6/site-packages\")\n",
        "\n",
        "!pip install git+https://github.com/automl/SMAC3.git@development\n",
        "  \n",
        "import logging\n",
        "logging.basicConfig(level=logging.INFO)"
      ],
      "execution_count": 0,
      "outputs": []
    },
    {
      "metadata": {
        "id": "7RxtuOc03qEp",
        "colab_type": "text"
      },
      "cell_type": "markdown",
      "source": [
        "## Optimize RF RMSE performance on Boston Dataset"
      ]
    },
    {
      "metadata": {
        "id": "O2GowUPf3uw2",
        "colab_type": "code",
        "colab": {}
      },
      "cell_type": "code",
      "source": [
        "from sklearn.metrics import make_scorer\n",
        "from sklearn.cross_validation import cross_val_score\n",
        "from sklearn.ensemble import RandomForestRegressor\n",
        "from sklearn.datasets import load_boston\n",
        "import numpy as np\n",
        "\n",
        "boston = load_boston()\n",
        "\n",
        "def rf_from_cfg(cfg, seed):\n",
        "    \"\"\"\n",
        "        Creates a random forest regressor from sklearn and fits the given data on it.\n",
        "        This is the function-call we try to optimize. Chosen values are stored in\n",
        "        the configuration (cfg).\n",
        "\n",
        "        Parameters:\n",
        "        -----------\n",
        "        cfg: Configuration\n",
        "            configuration chosen by smac\n",
        "        seed: int or RandomState\n",
        "            used to initialize the rf's random generator\n",
        "\n",
        "        Returns:\n",
        "        -----------\n",
        "        np.mean(rmses): float\n",
        "            mean of root mean square errors of random-forest test predictions\n",
        "            per cv-fold\n",
        "    \"\"\"\n",
        "    rfr = RandomForestRegressor(\n",
        "        n_estimators=cfg[\"num_trees\"],\n",
        "        criterion=cfg[\"criterion\"],\n",
        "        min_samples_split=cfg[\"min_samples_to_split\"],\n",
        "        min_samples_leaf=cfg[\"min_samples_in_leaf\"],\n",
        "        min_weight_fraction_leaf=cfg[\"min_weight_frac_leaf\"],\n",
        "        max_features=cfg[\"max_features\"],\n",
        "        max_leaf_nodes=cfg[\"max_leaf_nodes\"],\n",
        "        bootstrap=cfg[\"do_bootstrapping\"],\n",
        "        random_state=seed)\n",
        "\n",
        "    def rmse(y, y_pred):\n",
        "        return np.sqrt(np.mean((y_pred - y)**2))\n",
        "    # Creating root mean square error for sklearns crossvalidation\n",
        "    rmse_scorer = make_scorer(rmse, greater_is_better=False)\n",
        "    score = cross_val_score(rfr, boston.data, boston.target, cv=11, scoring=rmse_scorer)\n",
        "    return -1 * np.mean(score)  # Because cross_validation sign-flips the score"
      ],
      "execution_count": 0,
      "outputs": []
    },
    {
      "metadata": {
        "id": "dyYEontS2CX2",
        "colab_type": "text"
      },
      "cell_type": "markdown",
      "source": [
        "## Define Configuration Space"
      ]
    },
    {
      "metadata": {
        "id": "c0yPiWGc2B-m",
        "colab_type": "code",
        "colab": {}
      },
      "cell_type": "code",
      "source": [
        "from smac.configspace import ConfigurationSpace\n",
        "from ConfigSpace.hyperparameters import CategoricalHyperparameter, \\\n",
        "    UniformFloatHyperparameter, UniformIntegerHyperparameter\n",
        "\n",
        "cs = ConfigurationSpace()\n",
        "\n",
        "do_bootstrapping = CategoricalHyperparameter(\n",
        "    \"do_bootstrapping\", [\"true\", \"false\"], default_value=\"true\")\n",
        "num_trees = UniformIntegerHyperparameter(\"num_trees\", 10, 50, default_value=10)\n",
        "max_features = UniformIntegerHyperparameter(\"max_features\", 1, boston.data.shape[1], default_value=1)\n",
        "min_weight_frac_leaf = UniformFloatHyperparameter(\"min_weight_frac_leaf\", 0.0, 0.5, default_value=0.0)\n",
        "criterion = CategoricalHyperparameter(\"criterion\", [\"mse\", \"mae\"], default_value=\"mse\")\n",
        "min_samples_to_split = UniformIntegerHyperparameter(\"min_samples_to_split\", 2, 20, default_value=2)\n",
        "min_samples_in_leaf = UniformIntegerHyperparameter(\"min_samples_in_leaf\", 1, 20, default_value=1)\n",
        "max_leaf_nodes = UniformIntegerHyperparameter(\"max_leaf_nodes\", 10, 1000, default_value=100)\n",
        "\n",
        "cs.add_hyperparameters([do_bootstrapping,\n",
        "                        num_trees, min_weight_frac_leaf, \n",
        "                        criterion, max_features, min_samples_to_split, \n",
        "                        min_samples_in_leaf, max_leaf_nodes])\n",
        "\n",
        "print(cs)\n",
        "\n"
      ],
      "execution_count": 0,
      "outputs": []
    },
    {
      "metadata": {
        "id": "UJr3D_k52Vdo",
        "colab_type": "text"
      },
      "cell_type": "markdown",
      "source": [
        "## Define Scenario"
      ]
    },
    {
      "metadata": {
        "id": "1_deBG0a2U4M",
        "colab_type": "code",
        "colab": {}
      },
      "cell_type": "code",
      "source": [
        "from smac.scenario.scenario import Scenario\n",
        "\n",
        "scenario = Scenario({\"run_obj\": \"quality\",   # we optimize quality (alternative runtime)\n",
        "                      \"wallclock_limit\": 60, # time for running SMAC\n",
        "                     \"cs\": cs,               # configuration space\n",
        "                     \"deterministic\": \"true\",\n",
        "                     \"memory_limit\": 3072,   # adapt this to reasonable value for your hardware\n",
        "                     \"output_dir\": \"\"        # deactivate output directory\n",
        "                     })"
      ],
      "execution_count": 0,
      "outputs": []
    },
    {
      "metadata": {
        "id": "3-5ou1J_2ahp",
        "colab_type": "text"
      },
      "cell_type": "markdown",
      "source": [
        "## Run SMAC"
      ]
    },
    {
      "metadata": {
        "id": "cX7vYP7h2cf0",
        "colab_type": "code",
        "colab": {}
      },
      "cell_type": "code",
      "source": [
        "from smac.facade.smac_facade import SMAC\n",
        "\n",
        "smac = SMAC(scenario=scenario, rng=np.random.RandomState(42),\n",
        "            tae_runner=rf_from_cfg)\n",
        "\n",
        "incumbent = smac.optimize()"
      ],
      "execution_count": 0,
      "outputs": []
    }
  ]
}