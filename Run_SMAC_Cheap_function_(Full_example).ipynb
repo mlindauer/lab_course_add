{
  "nbformat": 4,
  "nbformat_minor": 0,
  "metadata": {
    "colab": {
      "name": "Run SMAC --- Cheap function (Full example)",
      "version": "0.3.2",
      "provenance": [],
      "collapsed_sections": []
    },
    "kernelspec": {
      "name": "python3",
      "display_name": "Python 3"
    }
  },
  "cells": [
    {
      "cell_type": "markdown",
      "metadata": {
        "id": "view-in-github",
        "colab_type": "text"
      },
      "source": [
        "[View in Colaboratory](https://colab.research.google.com/github/mlindauer/lab_course_add/blob/master/Run_SMAC_Cheap_function_(Full_example).ipynb)"
      ]
    },
    {
      "metadata": {
        "id": "xoDErmBqL2yC",
        "colab_type": "text"
      },
      "cell_type": "markdown",
      "source": [
        "# Using SMAC to optimize an artificial black box function (Full example)\n",
        "\n",
        "* Installation of SMAC and its dependencies\n",
        "* Definition of cheap 1d function\n",
        "* Plotting this function\n",
        "* Using SMAC's fmin interface to optimize the function\n",
        "* Plotting of how SMAC performed over time\n",
        "* Visualizing SMAC's acquisition function\n",
        "* Using other hyperparameters of SMAC's random forest to obtain better predictions"
      ]
    },
    {
      "metadata": {
        "id": "qOoCCm5F3kHH",
        "colab_type": "text"
      },
      "cell_type": "markdown",
      "source": [
        "## Installation of SMAC and its dependencies"
      ]
    },
    {
      "metadata": {
        "id": "9pY4l5s_3TqR",
        "colab_type": "code",
        "colab": {}
      },
      "cell_type": "code",
      "source": [
        "!apt-get install swig -y\n",
        "!pip install Cython\n",
        "!pip install pyrfr==0.8.0 --no-cache --user\n",
        "# hack to find pyrfr\n",
        "import sys\n",
        "sys.path.insert(0,\"./.local/lib/python3.6/site-packages\")\n",
        "\n",
        "!pip install git+https://github.com/automl/SMAC3.git@development"
      ],
      "execution_count": 0,
      "outputs": []
    },
    {
      "metadata": {
        "id": "7RxtuOc03qEp",
        "colab_type": "text"
      },
      "cell_type": "markdown",
      "source": [
        "## Define Function to be optimized"
      ]
    },
    {
      "metadata": {
        "id": "O2GowUPf3uw2",
        "colab_type": "code",
        "colab": {}
      },
      "cell_type": "code",
      "source": [
        "import math\n",
        "import numpy as np\n",
        "\n",
        "def test_func(x):\n",
        "    # x is vector; here of length 1\n",
        "    x = x[0]\n",
        "    return math.cos(x) * x**2 + x "
      ],
      "execution_count": 0,
      "outputs": []
    },
    {
      "metadata": {
        "id": "aQndKeQE4sRx",
        "colab_type": "text"
      },
      "cell_type": "markdown",
      "source": [
        "## Plot Function"
      ]
    },
    {
      "metadata": {
        "id": "GXv1jmM84LoN",
        "colab_type": "code",
        "colab": {}
      },
      "cell_type": "code",
      "source": [
        "x_points = np.linspace(start=-5,stop=5,num=100) \n",
        "y_points = list(map(test_func,map(lambda x: [x], x_points)))\n",
        "\n",
        "import matplotlib.pyplot as plt\n",
        "plt.plot(x_points, y_points, 'k')"
      ],
      "execution_count": 0,
      "outputs": []
    },
    {
      "metadata": {
        "id": "4QqLKS1-7I5v",
        "colab_type": "text"
      },
      "cell_type": "markdown",
      "source": [
        "## Optimize with SMAC"
      ]
    },
    {
      "metadata": {
        "id": "3YqtNEhp7L1n",
        "colab_type": "code",
        "colab": {}
      },
      "cell_type": "code",
      "source": [
        "from smac.facade.func_facade import fmin_smac\n",
        "\n",
        "MAX_FUN = 30\n",
        "\n",
        "x, cost, smac = fmin_smac(func=test_func,\n",
        "                       x0=[-0], # default values\n",
        "                       bounds=[(-5, 5)], # bounds of each x\n",
        "                       maxfun=MAX_FUN, # maximal number of function evaluations \n",
        "                       rng=1234 # random seed\n",
        "                       )\n",
        "\n",
        "print(\"Best x: %f\" %(x[0]))\n",
        "print(\"Best y: %f\" %(cost))"
      ],
      "execution_count": 0,
      "outputs": []
    },
    {
      "metadata": {
        "id": "sxaB6j_U8Qao",
        "colab_type": "text"
      },
      "cell_type": "markdown",
      "source": [
        "## Plot Found Solution"
      ]
    },
    {
      "metadata": {
        "id": "ajGYr4I-8Ooj",
        "colab_type": "code",
        "colab": {}
      },
      "cell_type": "code",
      "source": [
        "plt.plot(x_points, y_points, 'k', x, [cost], 'ro')"
      ],
      "execution_count": 0,
      "outputs": []
    },
    {
      "metadata": {
        "id": "1pg-PcUq9qa1",
        "colab_type": "text"
      },
      "cell_type": "markdown",
      "source": [
        "## How has SMAC performed over time?"
      ]
    },
    {
      "metadata": {
        "id": "bQJPaCQN9kHA",
        "colab_type": "code",
        "colab": {}
      },
      "cell_type": "code",
      "source": [
        "import numpy as np\n",
        "# get runhistory, all runs ever evaluated by smac\n",
        "runhistory = smac.get_runhistory()\n",
        "\n",
        "# extract x value and corresponding y value\n",
        "x_smac = []\n",
        "y_smac = []\n",
        "for entry in runhistory.data: # iterate over data because it is an OrderedDict\n",
        "  config_id = entry.config_id # look up config id\n",
        "  config = runhistory.ids_config[config_id] # look up config\n",
        "  y_ = runhistory.get_cost(config) # get cost\n",
        "  x_ = config[\"x1\"] # there is only one entry in our example\n",
        "  x_smac.append(x_)\n",
        "  y_smac.append(y_)\n",
        "x_smac = np.array(x_smac)\n",
        "y_smac = np.array(y_smac)\n",
        "\n",
        "\n",
        "# Plotting\n",
        "plt.plot(y_smac, 'o')\n",
        "plt.xlabel('function evaluation')\n",
        "plt.ylabel('function value')\n",
        "\n",
        "# let's plot only the best function value at each time step\n",
        "y_best = np.zeros(MAX_FUN)\n",
        "for id in range(MAX_FUN):\n",
        "  y_best[id] = np.min(y_smac[:id+1])\n",
        "  \n",
        "plt.step(y_best, 'k', where=\"post\") # please note that we use step function!"
      ],
      "execution_count": 0,
      "outputs": []
    },
    {
      "metadata": {
        "id": "jBaepfLqLP9I",
        "colab_type": "text"
      },
      "cell_type": "markdown",
      "source": [
        "## Visualizing the Acquisition Function (Expected Improvement)"
      ]
    },
    {
      "metadata": {
        "id": "qlclEdj2LVu2",
        "colab_type": "code",
        "colab": {}
      },
      "cell_type": "code",
      "source": [
        "from smac.optimizer.acquisition import EI\n",
        "from smac.epm.rf_with_instances import RandomForestWithInstances\n",
        "\n",
        "# Plot all evaluated points on the function\n",
        "ax = plt.plot(x_smac, y_smac, 'bo', x_points, y_points, 'k')\n",
        "plt.title(\"Function with all evaluated points\")\n",
        "\n",
        "\n",
        "def plot_state(smac, model):\n",
        "  '''\n",
        "    plot function with all evaluated points,\n",
        "    EI acquisition function\n",
        "    Predictions with uncertainties\n",
        "  '''\n",
        "\n",
        "  # extract (again) all points from the runhistory of SMAC\n",
        "  X, Y = smac.solver.rh2EPM.transform(runhistory)\n",
        "  x_smac_ = np.array([[x] for x in x_smac])\n",
        "  y_smac_ = np.array([[y] for y in y_smac])\n",
        "\n",
        "\n",
        "  # cost all points for x\n",
        "  x_points_ = np.array([[x] for x in x_points])\n",
        "\n",
        "  model.train(x_smac_, y_smac_)\n",
        "\n",
        "  acq_func = EI(model=model)\n",
        "  acq_func.update(model=model, eta=np.min(y_smac))\n",
        "\n",
        "  x_points_ = np.array([[x] for x in x_points])\n",
        "  acq_values = acq_func._compute(X=x_points_)[:,0]\n",
        "\n",
        "  # plot acquisition function\n",
        "  y_mean, y_var = model.predict(x_points_)\n",
        "  y_mean = y_mean[:,0]\n",
        "  y_std = np.sqrt(y_var)[:,0]\n",
        "\n",
        "  fig1 = plt.figure()\n",
        "  ax1 = fig1.add_subplot(111)\n",
        "  ax1.plot(x_points, acq_values)\n",
        "  plt.title(\"Aquisition Function\")\n",
        "\n",
        "  # plot uncertainties\n",
        "  fig1 = plt.figure()\n",
        "  ax1 = fig1.add_subplot(111)\n",
        "  ax1.plot(x_points,y_mean)\n",
        "  ax1.fill_between(x_points, y_mean-y_std, \n",
        "                   y_mean+y_std,alpha=0.5)\n",
        "  ax1.plot(x_smac, y_smac, 'bo')\n",
        "  ax1.plot(x_smac, y_smac, 'ro')\n",
        "  ax1.plot(x_points, y_points, '--')\n",
        "  plt.title(\"Uncertainty Predictions\")\n",
        "  \n",
        "  \n",
        "\n",
        "# set up a EPM (empirical performance model)\n",
        "types, bounds = np.array([0]), np.array([[0.0, 1.0]])\n",
        "model = RandomForestWithInstances(types=types, \n",
        "                                  bounds=bounds,\n",
        "                                  instance_features=None,\n",
        "                                  seed=12345\n",
        "                                 )\n",
        "  \n",
        "plot_state(smac, model)"
      ],
      "execution_count": 0,
      "outputs": []
    },
    {
      "metadata": {
        "id": "5OUXll0kQfF2",
        "colab_type": "text"
      },
      "cell_type": "markdown",
      "source": [
        "## Better Predictions with RFs\n",
        "\n",
        "The above predictions are very unsatisfying for a smooth function.\n",
        "In the following, we change the hyperparameters of the random forest to get better predictions:\n",
        "\n",
        " * no pruning\n",
        " * many trees\n",
        " * no bootstrapping\n",
        " \n",
        " \n",
        " Note: The extrapolation of RFs is not quite good."
      ]
    },
    {
      "metadata": {
        "id": "Lc8N0OT5Qqvh",
        "colab_type": "code",
        "colab": {}
      },
      "cell_type": "code",
      "source": [
        "model = RandomForestWithInstances(types=types, \n",
        "                                  bounds=bounds,\n",
        "                                  instance_features=None,\n",
        "                                  seed=12345,\n",
        "                                  pca_components=12345,\n",
        "                                  ratio_features=1,\n",
        "                                  num_trees=1000,\n",
        "                                  min_samples_split=1,\n",
        "                                  min_samples_leaf=1,\n",
        "                                  max_depth=100000,\n",
        "                                  do_bootstrapping=False,\n",
        "                                  n_points_per_tree=-1,\n",
        "                                  eps_purity=0\n",
        "                                 )\n",
        "plot_state(smac, model)"
      ],
      "execution_count": 0,
      "outputs": []
    }
  ]
}